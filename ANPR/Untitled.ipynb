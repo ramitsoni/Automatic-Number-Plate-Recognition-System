{
 "cells": [
  {
   "cell_type": "markdown",
   "id": "91d9957d",
   "metadata": {},
   "source": [
    "# Number Plate Detection"
   ]
  },
  {
   "cell_type": "code",
   "execution_count": null,
   "id": "73bc1b2f",
   "metadata": {},
   "outputs": [],
   "source": [
    "import cv2"
   ]
  },
  {
   "cell_type": "code",
   "execution_count": null,
   "id": "7e2b8aed",
   "metadata": {},
   "outputs": [],
   "source": [
    "import numpy as np"
   ]
  },
  {
   "cell_type": "code",
   "execution_count": null,
   "id": "1a2a8450",
   "metadata": {},
   "outputs": [],
   "source": [
    "img = cv2.imread(\"car_8.jpg\")"
   ]
  },
  {
   "cell_type": "code",
   "execution_count": null,
   "id": "5d9ccc71",
   "metadata": {},
   "outputs": [],
   "source": [
    "gray = cv2.cvtColor(img,cv2.COLOR_BGR2GRAY)"
   ]
  },
  {
   "cell_type": "code",
   "execution_count": null,
   "id": "5578a58f",
   "metadata": {},
   "outputs": [],
   "source": [
    "filter = cv2.bilateralFilter(gray, 11,15,15)"
   ]
  },
  {
   "cell_type": "code",
   "execution_count": null,
   "id": "cf7478c4",
   "metadata": {},
   "outputs": [],
   "source": [
    "edge = cv2.Canny(filter, 170,200)"
   ]
  },
  {
   "cell_type": "code",
   "execution_count": null,
   "id": "546a28f9",
   "metadata": {},
   "outputs": [],
   "source": [
    "contor, href=cv2.findContours(edge, cv2.RETR_TREE, cv2.CHAIN_APPROX_SIMPLE)"
   ]
  },
  {
   "cell_type": "code",
   "execution_count": null,
   "id": "619d0dcd",
   "metadata": {},
   "outputs": [],
   "source": [
    "ctn = sorted(contor, key=cv2.contourArea, reverse=True) "
   ]
  },
  {
   "cell_type": "code",
   "execution_count": null,
   "id": "cc53067d",
   "metadata": {},
   "outputs": [],
   "source": [
    "for c in ctn:\n",
    "    peri=cv2.arcLength(c, True)\n",
    "    epsilon=0.010*peri\n",
    "    apporx=cv2.approxPolyDP(c,epsilon,True)\n",
    "    if len(apporx)==4:\n",
    "        final = cv2.drawContours(img,[apporx],-1,(255,0,0),3)\n",
    "        break\n",
    "\n",
    "cv2.imshow(\"plate detected\", img)\n",
    "cv2.waitKey(0)\n",
    "cv2.destroyAllWindows()"
   ]
  },
  {
   "cell_type": "code",
   "execution_count": null,
   "id": "322adeaa",
   "metadata": {},
   "outputs": [],
   "source": []
  },
  {
   "cell_type": "markdown",
   "id": "49b1d1af",
   "metadata": {},
   "source": [
    "# Number plate Recognition "
   ]
  },
  {
   "cell_type": "code",
   "execution_count": null,
   "id": "59cb8ef6",
   "metadata": {},
   "outputs": [],
   "source": [
    "#!pip install pytesseract"
   ]
  },
  {
   "cell_type": "code",
   "execution_count": 3,
   "id": "f191cd7b",
   "metadata": {},
   "outputs": [
    {
     "name": "stderr",
     "output_type": "stream",
     "text": [
      "ERROR: Could not find a version that satisfies the requirement pytesseract-ocr\n",
      "ERROR: No matching distribution found for pytesseract-ocr\n"
     ]
    }
   ],
   "source": [
    "#!pip install tesseract-ocr"
   ]
  },
  {
   "cell_type": "code",
   "execution_count": null,
   "id": "4e0a52f2",
   "metadata": {},
   "outputs": [],
   "source": [
    "#‪C:\\Program Files\\Tesseract-OCR"
   ]
  },
  {
   "cell_type": "code",
   "execution_count": 1,
   "id": "c05afe09",
   "metadata": {},
   "outputs": [],
   "source": [
    "import cv2"
   ]
  },
  {
   "cell_type": "code",
   "execution_count": 2,
   "id": "a6a3a2de",
   "metadata": {},
   "outputs": [],
   "source": [
    "import pytesseract"
   ]
  },
  {
   "cell_type": "code",
   "execution_count": 3,
   "id": "044ee921",
   "metadata": {},
   "outputs": [],
   "source": [
    "pytesseract.pytesseract.tesseract_cmd = r'C:\\Program Files\\Tesseract-OCR\\tesseract.exe'"
   ]
  },
  {
   "cell_type": "code",
   "execution_count": 4,
   "id": "945b39c5",
   "metadata": {},
   "outputs": [
    {
     "data": {
      "text/plain": [
       "LooseVersion ('5.0.0-alpha.20210506\n",
       " leptonica-1.78.0\n",
       "  libgif 5.1.4 : libjpeg 8d (libjpeg-turbo 1.5.3) : libpng 1.6.34 : libtiff 4.0.9 : zlib 1.2.11 : libwebp 0.6.1 : libopenjp2 2.3.0\n",
       " Found AVX2\n",
       " Found AVX\n",
       " Found FMA\n",
       " Found SSE4.1\n",
       " Found libarchive 3.5.0 zlib/1.2.11 liblzma/5.2.3 bz2lib/1.0.6 liblz4/1.7.5 libzstd/1.4.5\n",
       " Found libcurl/7.77.0-DEV Schannel zlib/1.2.11 zstd/1.4.5 libidn2/2.0.4 nghttp2/1.31.0\n",
       "')"
      ]
     },
     "execution_count": 4,
     "metadata": {},
     "output_type": "execute_result"
    }
   ],
   "source": [
    "pytesseract.get_tesseract_version()"
   ]
  },
  {
   "cell_type": "code",
   "execution_count": 4,
   "id": "7308f0ea",
   "metadata": {},
   "outputs": [],
   "source": [
    "img = cv2.imread(\"car_6.jpg\")"
   ]
  },
  {
   "cell_type": "code",
   "execution_count": 5,
   "id": "ab8142fd",
   "metadata": {},
   "outputs": [],
   "source": [
    "img = cv2.resize(img, (600,400))"
   ]
  },
  {
   "cell_type": "code",
   "execution_count": 6,
   "id": "6bfe70f9",
   "metadata": {},
   "outputs": [],
   "source": [
    "cv2.imshow(\"car\", img)\n",
    "cv2.waitKey(0)\n",
    "cv2.destroyAllWindows()"
   ]
  },
  {
   "cell_type": "code",
   "execution_count": 7,
   "id": "ce8ce875",
   "metadata": {},
   "outputs": [],
   "source": [
    "gray = cv2.cvtColor(img,cv2.COLOR_BGR2GRAY)"
   ]
  },
  {
   "cell_type": "code",
   "execution_count": 8,
   "id": "4192cac2",
   "metadata": {},
   "outputs": [],
   "source": [
    "cv2.imshow(\"car_gray\", gray)\n",
    "cv2.waitKey(0)\n",
    "cv2.destroyAllWindows()"
   ]
  },
  {
   "cell_type": "code",
   "execution_count": 9,
   "id": "5fa5ce55",
   "metadata": {},
   "outputs": [],
   "source": [
    "filter = cv2.bilateralFilter(gray, 13,15,15)"
   ]
  },
  {
   "cell_type": "code",
   "execution_count": null,
   "id": "b0907bff",
   "metadata": {},
   "outputs": [],
   "source": []
  },
  {
   "cell_type": "code",
   "execution_count": 10,
   "id": "5860ce86",
   "metadata": {},
   "outputs": [],
   "source": [
    "edge = cv2.Canny(filter, 170,200)"
   ]
  },
  {
   "cell_type": "code",
   "execution_count": 11,
   "id": "30cd4e85",
   "metadata": {},
   "outputs": [],
   "source": [
    "cv2.imshow(\"car_edges\", edge )\n",
    "cv2.waitKey(0)\n",
    "cv2.destroyAllWindows()"
   ]
  },
  {
   "cell_type": "code",
   "execution_count": 12,
   "id": "e40504a7",
   "metadata": {},
   "outputs": [],
   "source": [
    "contor, href=cv2.findContours(edge.copy(), cv2.RETR_TREE, cv2.CHAIN_APPROX_SIMPLE)"
   ]
  },
  {
   "cell_type": "code",
   "execution_count": null,
   "id": "e027a20e",
   "metadata": {},
   "outputs": [],
   "source": []
  },
  {
   "cell_type": "code",
   "execution_count": 13,
   "id": "4db1d548",
   "metadata": {},
   "outputs": [],
   "source": [
    "ctn = sorted(contor, key=cv2.contourArea, reverse=True)[:10]"
   ]
  },
  {
   "cell_type": "code",
   "execution_count": null,
   "id": "a3294115",
   "metadata": {},
   "outputs": [],
   "source": []
  },
  {
   "cell_type": "code",
   "execution_count": 14,
   "id": "87380b4a",
   "metadata": {},
   "outputs": [
    {
     "name": "stdout",
     "output_type": "stream",
     "text": [
      "YJ65 YOM,\n",
      "\f",
      "\n"
     ]
    }
   ],
   "source": [
    "for c in ctn:\n",
    "    peri=cv2.arcLength(c, True)\n",
    "    epsilon=0.018*peri\n",
    "    apporx=cv2.approxPolyDP(c,epsilon,True)\n",
    "    if len(apporx)==4:\n",
    "        x,y,w,h = cv2.boundingRect(apporx)\n",
    "        cimg = img[y:y+h, x:x+w]\n",
    "        cv2.imshow(\"plate\", cimg) \n",
    "        text=pytesseract.image_to_string(cimg, lang=\"eng\")\n",
    "        print(text)\n",
    "        final = cv2.drawContours(img,[apporx],-1,(255,0,0),3)\n",
    "        break\n",
    "\n",
    "cv2.imshow(\"plate detected\", img)\n",
    "cv2.waitKey(0)\n",
    "cv2.destroyAllWindows()"
   ]
  },
  {
   "cell_type": "code",
   "execution_count": 15,
   "id": "2f24bbee",
   "metadata": {},
   "outputs": [
    {
     "name": "stdout",
     "output_type": "stream",
     "text": [
      "YJ65 YOM,\n",
      "\f",
      "\n"
     ]
    }
   ],
   "source": [
    "print(text)"
   ]
  },
  {
   "cell_type": "code",
   "execution_count": null,
   "id": "82b9a346",
   "metadata": {},
   "outputs": [],
   "source": []
  },
  {
   "cell_type": "code",
   "execution_count": null,
   "id": "22233e45",
   "metadata": {},
   "outputs": [],
   "source": []
  }
 ],
 "metadata": {
  "kernelspec": {
   "display_name": "Python 3",
   "language": "python",
   "name": "python3"
  },
  "language_info": {
   "codemirror_mode": {
    "name": "ipython",
    "version": 3
   },
   "file_extension": ".py",
   "mimetype": "text/x-python",
   "name": "python",
   "nbconvert_exporter": "python",
   "pygments_lexer": "ipython3",
   "version": "3.8.8"
  }
 },
 "nbformat": 4,
 "nbformat_minor": 5
}
